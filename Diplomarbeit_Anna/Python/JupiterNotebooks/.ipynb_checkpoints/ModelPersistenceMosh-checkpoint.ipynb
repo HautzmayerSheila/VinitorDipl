{
 "cells": [
  {
   "cell_type": "code",
   "execution_count": 7,
   "id": "9b91af38",
   "metadata": {},
   "outputs": [
    {
     "data": {
      "text/plain": [
       "['music-recommender.joblib']"
      ]
     },
     "execution_count": 7,
     "metadata": {},
     "output_type": "execute_result"
    }
   ],
   "source": [
    "# Model Persistence\n",
    "from sklearn.tree import DecisionTreeClassifier \n",
    "import pandas as pd\n",
    "import joblib as jl\n",
    "\n",
    "music_df =pd.read_csv(\"music.csv\")\n",
    "X = music_df.drop(columns=[\"genre\"]) # X = input dataset\n",
    "y = music_df[\"genre\"]  #y = Output Dataset\n",
    "\n",
    "model = DecisionTreeClassifier()\n",
    "model.fit(X, y)\n",
    "\n",
    "jl.dump(model, \"music-recommender.joblib\")\n",
    "\n",
    "#predictions = model.predict([[21,1], [22, 0]])"
   ]
  },
  {
   "cell_type": "code",
   "execution_count": 12,
   "id": "c4960162",
   "metadata": {},
   "outputs": [
    {
     "name": "stderr",
     "output_type": "stream",
     "text": [
      "/home/anna/anaconda3/lib/python3.9/site-packages/sklearn/base.py:450: UserWarning: X does not have valid feature names, but DecisionTreeClassifier was fitted with feature names\n",
      "  warnings.warn(\n"
     ]
    },
    {
     "data": {
      "text/plain": [
       "array(['HipHop'], dtype=object)"
      ]
     },
     "execution_count": 12,
     "metadata": {},
     "output_type": "execute_result"
    }
   ],
   "source": [
    "# Load Model\n",
    "import joblib as jl\n",
    "model = jl.load(\"music-recommender.joblib\")\n",
    "predictions = model.predict([[21,1]])\n",
    "predictions"
   ]
  }
 ],
 "metadata": {
  "kernelspec": {
   "display_name": "Python 3 (ipykernel)",
   "language": "python",
   "name": "python3"
  },
  "language_info": {
   "codemirror_mode": {
    "name": "ipython",
    "version": 3
   },
   "file_extension": ".py",
   "mimetype": "text/x-python",
   "name": "python",
   "nbconvert_exporter": "python",
   "pygments_lexer": "ipython3",
   "version": "3.9.12"
  }
 },
 "nbformat": 4,
 "nbformat_minor": 5
}
